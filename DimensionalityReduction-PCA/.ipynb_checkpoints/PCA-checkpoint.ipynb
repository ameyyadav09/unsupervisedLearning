{
 "cells": [
  {
   "cell_type": "markdown",
   "metadata": {},
   "source": [
    "###### The Curse of Dimensionality\n",
    "We are so used to living in 3 dimensions that our intuition fails us when we try to imagine a high-dimensional space. Even a basic 4D hypercube is incredibly hard to picture in our mind (below image)\n",
    "\n",
    "<img src=\"images/curseOfDims.png\">"
   ]
  },
  {
   "cell_type": "markdown",
   "metadata": {},
   "source": [
    "It turns out that many things behave very differently in high-dimensional space and as the dimensions in our data set increase, the number of samples required for an estimator to generalize also increase exponentially. And so problems involving high dimensional data become victims of **Curse of Dimensionality**\n",
    "\n",
    "But it's not always feasible to to acquire such large data sets and at the same time learning from those data sets requires more memory and processing power.\n",
    "\n",
    "Eventually the sparseness of the data also increases with its dimensions. With this it becomes even harder for the estimator to detect similar instances in a higher dimensional space as all of the data points are similarly sparse.\n",
    "\n",
    "**Example**: If you pick two points randomly in a **unit square**, the distance between these two points will be, on average, roughly **0.52**. If you pick two random points in a **unit 3D cube**, the average distance will be roughly **0.66**. But what about two points picked randomly in a **one-million-dimensional hypercube**? Well the average distance, will be about **408.25**\n",
    "\n",
    "$$(roughly \\sqrt{1, 000, 000/6})! $$\n",
    "\n",
    "This is quite counter-intuitive, how can two points be so far apart when they both lie within the same unit hypercube? This fact implies that highdimensional datasets are at risk of being very sparse, most training data points are likely to be very far away from each other. Of course this also means that a new instance will also be far away from training set, making predictions much less promising than in lower dimensional space, as they will be exploited by the curse of dimensionality.\n",
    "\n",
    "Since increasing number of records is not possible in every case, we try to reduce the number of dimensions in the data to simplify our data."
   ]
  },
  {
   "cell_type": "markdown",
   "metadata": {},
   "source": [
    "**Note**:Reducing dimensionality does lose some information (just like compressing an image to JPEG can degrade its quality) so even though it will speed up training, it may also make your system perform slightly worse. It also makes your pipelines a bit more complex and thus harder to maintain. So you should first try to train your system with the original data before considering using reducing dimensionality if training is too slow. In some cases however,\n",
    "reducing the dimensionality of the training data may filter out some noise and unnecessary details and thus result in higher performance (but in general it won’t, it will just speed up training)."
   ]
  },
  {
   "cell_type": "markdown",
   "metadata": {},
   "source": [
    "We have two main approaches for dimensionality reduction:\n",
    "- projection\n",
    "- manifold learning"
   ]
  },
  {
   "cell_type": "markdown",
   "metadata": {},
   "source": [
    "**Projection**\n",
    "In majority of the use cases data points are not spread out uniformly across the entire feature space. Most of them are constant or are highly correlated. Hence the data points lie within a much lower dimensional sub-space of the entire high dimensional space.\n",
    "<img src=\"images/projection1.png\" height=600 width=600>\n",
    "\n",
    "Here we can see that all the data points are lying close to plane(which is a 2D sub space of the 3D space). But if we project those same points on to a place of the axis, \n",
    "\n",
    "<img src=\"images/projection2.png\" height=600 width=600>"
   ]
  },
  {
   "cell_type": "markdown",
   "metadata": {},
   "source": [
    "**Principal Component Analysis**<br>\n",
    "Based on this intuition an approach named Principal Component Analysis (PCA) is devised. First it identifies the hyperplane that lies closest to the data, then it projects the data onto it. PCA rotates the data in such a way that the features become statistically uncorrelated inorder to make the data align with its principal components to maximize the variance. \n",
    "\n",
    "And this rotation is often followed by selecting only a subset of the newly found features on the basis of how highly those features are correlated with the target variable. The newly derived lower-dimensional data will preserve as much of the variance of the original data as possible.\n",
    "\n",
    "In general, an n-dimensional dataset can be reduced by projecting the dataset onto a k-dimensional subspace, where k is less than n. More formally, PCA can be used to find a set of vectors that span a subspace, which minimizes the sum of the squared errors of the projected data. This projection will retain the greatest proportion of the original data set's variance."
   ]
  },
  {
   "cell_type": "markdown",
   "metadata": {},
   "source": [
    "**Example**\n",
    "\n",
    "Let's assume that we have a data set as follows,\n",
    "<img src=\"images/pca1.png\">\n",
    "\n",
    "The data points approximately form a long and thin ellipse as they move away from origin to the top right of the plot. To reduce the dimensions in the data, we have to project those points onto a line. \n",
    "\n",
    "Following image shows two lines to project the data. \n",
    "<img src=\"images/pca2.png\">\n",
    "\n",
    "Data varies more across the dashed line when compared to the dotted line. So, the dashed line becomes the first principal component. The second principal component must be orthogonal to the first one. In other terms the second principal component must be independent and appears perpendicular to the first principal component. And following image explains that,\n",
    "<img src=\"images/pca3.png\">\n",
    "\n",
    "If we have a 3D data, the data should be rotated with respect to one of the axes. So that we end up with a dimension that has zero variance and we can then discard that dimension.\n",
    "\n",
    "<img src=\"images/pca4.png\">\n",
    "\n",
    "PCA is most useful when the variance in a data set is distributed unevenly across the dimensions. Like a three-dimensional data set with a spherical convex hull. PCA cannot be used effectively with this data set because there is equal variance in each dimension; none of the dimensions can be discarded without losing a significant amount of information."
   ]
  },
  {
   "cell_type": "markdown",
   "metadata": {},
   "source": [
    "###### Variance, Covariance and Covariance Matrices\n",
    "**variance** is a measure of how a set of values are spread out. Variance is calculated as the average of the squared differences of the values and mean of the values.\n",
    "$$s^2 = \\frac{\\sum_{i=1}^n(X_i-{\\overline{X}})^2}{n-1}$$\n",
    "\n",
    "**Covariance** is a measure of how much two features change together. It is a measure of the linear relationship between two variables. Co-variance is similar to the correlation between two variables but unlike correlation the values of co-variance are not standardized values vary with data and can range from positive infinity to negative infinty, because of which co-variance cannot say the strength or degree of correlation. \n",
    "\n",
    "But co-variance can say the direction of correlation, positive co-variance implies positive correlation and negative covariacne includes negative correlation and if the covariance of two features is zero, the variables are uncorrelated. \n",
    "\n",
    "**Note:** Uncorrelated variables are not necessarily independent, as covariance is only a measure of linear dependence.\n",
    "\n",
    "$$Cov(X, Y) = \\frac{\\sum_{i=1}^n(X_i - \\overline{X})(Y_i - \\overline{Y})}{n-1}$$\n",
    "\n",
    "If the covariance is nonzero, the sign indicates whether the variables are positively or negatively correlated. When two variables are positively correlated, one increases as the other increases. When variables are negatively correlated, one variable decreases relative to its mean as the other variable increases relative to its mean."
   ]
  },
  {
   "cell_type": "markdown",
   "metadata": {},
   "source": [
    "A covariance matrix describes the covariance values between each pair of features/variables/dimensions in a data set. The element **(i, j)** indicates the covariance of the **ith** and **jth** dimensions of the data. For example, a covariance matrix for a three-dimensional data is given by the following matrix,\n",
    "\n",
    "$$C = \\begin{bmatrix}cov(x_1, x_1) & cov(x_1, x_2) & cov(x_1, x_3) \\\\cov(x_2, x_1) & cov(x_2, x_2) & cov(x_2,x_3) \\\\ cov(x_3,x_1) & cov(x_3, x_2) & cov(x_3, x_3) \\end{bmatrix}$$"
   ]
  },
  {
   "cell_type": "code",
   "execution_count": 2,
   "metadata": {},
   "outputs": [
    {
     "name": "stdout",
     "output_type": "stream",
     "text": [
      "[ 2.125  0.075 -1.275]\n",
      "[[ 0.04916667  0.01416667  0.01916667]\n",
      " [ 0.01416667  0.00916667 -0.00583333]\n",
      " [ 0.01916667 -0.00583333  0.04916667]]\n"
     ]
    }
   ],
   "source": [
    "import numpy as np\n",
    "X = np.array([[2, 0, -1.4], [2.2, 0.2, -1.5], [2.4, 0.1, -1], [1.9, 0, -1.2]])\n",
    "print(X.mean(axis = 0))\n",
    "print (np.cov(X.T))"
   ]
  },
  {
   "cell_type": "markdown",
   "metadata": {},
   "source": [
    "###### Eigenvectors and Eigenvalues\n",
    "A vector is described by a direction and magnitude, or length. An eigenvector of a matrix is a non-zero vector that satisfies the following equation,\n",
    "\n",
    "$$A\\vec{v}=\\lambda\\vec{v} -------------------- (1)$$ \n",
    "\n",
    "In the preceding equation, A is a square matrix\n",
    "$$\\vec{v} \\space is \\space an \\space eigenvector$$\n",
    "$$\\lambda \\space is \\space a \\space scalar \\space called \\space an \\space eigenvalue.$$ \n",
    "\n",
    "The direction of an eigenvector remains the same after it has been transformed by A, only its magnitude changes, as indicated by the eigenvalue.\n",
    "\n",
    "That is, multiplying a matrix by one of its eigenvectors is equal to scaling the eigenvector."
   ]
  },
  {
   "cell_type": "markdown",
   "metadata": {},
   "source": [
    "Eigenvectors and eigenvalues can only be derived from square matrices, and not all square matrices have eigenvectors or eigenvalues. If a matrix does have eigenvectors and eigenvalues, it will have a pair for each of its dimensions. \n",
    "\n",
    "**The principal components of a matrix are the eigenvectors of its covariance matrix**, ordered by their corresponding eigenvalues. The eigenvector with the greatest eigenvalue is the first principal component, the second principal component is the eigenvector with the second greatest eigenvalue, and so on."
   ]
  },
  {
   "cell_type": "markdown",
   "metadata": {},
   "source": [
    "**Example**\n",
    "\n",
    "$$ A = \\begin{bmatrix}1 & -2 \\\\2 & -3 \\end{bmatrix}$$\n",
    "\n",
    "The product of A and any eigenvector of A must be equal to the eigenvector multiplied by its eigenvalue as per eqn(1). We will begin by finding the eigenvalues, which we can find using the following characteristic equations\n",
    "\n",
    "$$(A-\\lambda \\space I)\\vec{v}=0 ------------------ \\space(2)$$\n",
    "\n",
    "$$A-\\lambda I => \\begin{bmatrix}1 & -2 \\\\2 & -3 \\end{bmatrix} - \\begin{bmatrix}\\lambda & 0 \\\\0 & \\lambda\\end{bmatrix} = 0$$ \n",
    "\n",
    "As per the above equation the difference of the data matrix and the product of eigen value and Identity matrix equals zero.\n",
    "\n",
    "$$ \\begin{vmatrix}1-\\lambda & -2 \\\\2 & -3-\\lambda \\end{vmatrix} = (\\lambda+1)(\\lambda+1) = 0$$\n",
    "\n",
    "Both of the eigenvalues for this matrix are equal to -1. We can now use the eigenvalues to solve the eigenvectors using eqn(2)\n",
    "\n",
    "$$\\left(\\begin{bmatrix}1 & -2\\\\ 2 & -3\\end{bmatrix} - {\\begin{bmatrix}\\lambda & 0 \\\\0 & -\\lambda \\end{bmatrix} } \\right)\\vec{v} = {\\begin{bmatrix}1-\\lambda & -2 \\\\2 & -3-\\lambda \\end{bmatrix}\\vec{v} } = {\\begin{bmatrix}1-\\lambda & -2 \\\\2 & -3-\\lambda \\end{bmatrix} \\begin{bmatrix}v_{11} \\\\ v_{12}\\end{bmatrix} } $$\n",
    "\n",
    "We can now substitute eigen values and solve for eigenvectors.\n",
    "$$\\begin{bmatrix}1-(-1)&-2\\\\2&-3-(-1)\\end{bmatrix} \\begin{bmatrix}v_{11} \\\\ v_{12}\\end{bmatrix} = \\begin{bmatrix}2&-2 \\\\ 2&-2\\end{bmatrix}\\begin{bmatrix}v_{11} \\\\ v_{12}\\end{bmatrix} = 0$$\n",
    "\n",
    "Which transform to be, \n",
    "$$2v_{11}+-(2v_{1,2})=0$$\n",
    "$$2v_{11}+-(2v_{1,2})=0$$\n",
    "\n",
    "And any non-zero vector that satisfies the preceding equations, such as the following, can be used as an eigenvector\n",
    "\n",
    "$$\\begin{bmatrix}1&-2\\\\2&-3\\end{bmatrix}\\begin{bmatrix}1 \\\\ 1\\end{bmatrix} = -1\\begin{bmatrix}1 \\\\ 1\\end{bmatrix}  =\\begin{bmatrix}-1 \\\\ -1\\end{bmatrix}$$\n",
    "\n",
    "PCA requires unit eigenvectors, or eigenvectors that have a length equal to 1. We can normalize an eigenvector by dividing it by its norm, which is given by the following equation\n",
    "\n",
    "$$||x|| = \\sqrt{x_1^2 + x_2^2 + ... + x_n^2} --------------------- \\space (3)$$\n",
    "\n",
    "Hence from eqn(3) \n",
    "\n",
    "$$\\sqrt{1^2+1^2} = \\sqrt2 => \\begin{bmatrix}0.70710678118654\\\\0.70710678118654\\end{bmatrix}$$"
   ]
  },
  {
   "cell_type": "code",
   "execution_count": 3,
   "metadata": {},
   "outputs": [
    {
     "name": "stdout",
     "output_type": "stream",
     "text": [
      "Eigen Values [-0.99999998 -1.00000002]\n",
      "Eigen Vector [0.70710678 0.70710678]\n"
     ]
    }
   ],
   "source": [
    "# just to verify above results\n",
    "w, v = np.linalg.eig(np.array([[1, -2], [2, -3]]))\n",
    "print(\"Eigen Values\", w)\n",
    "print(\"Eigen Vector\",v[0])"
   ]
  },
  {
   "cell_type": "code",
   "execution_count": 22,
   "metadata": {},
   "outputs": [],
   "source": [
    "# applying PCA for higher dimensional data\n",
    "# importing dependencies\n",
    "import matplotlib.pyplot as plt\n",
    "from sklearn.decomposition import PCA\n",
    "from sklearn.datasets import load_iris"
   ]
  },
  {
   "cell_type": "code",
   "execution_count": 28,
   "metadata": {},
   "outputs": [
    {
     "name": "stdout",
     "output_type": "stream",
     "text": [
      "(150, 4)\n"
     ]
    }
   ],
   "source": [
    "data = load_iris()\n",
    "y = data.target\n",
    "X = data.data\n",
    "print(X.shape)"
   ]
  },
  {
   "cell_type": "code",
   "execution_count": 29,
   "metadata": {},
   "outputs": [],
   "source": [
    "pca = PCA(n_components=2)\n",
    "reduced_X = pca.fit_transform(X)"
   ]
  },
  {
   "cell_type": "code",
   "execution_count": 30,
   "metadata": {},
   "outputs": [
    {
     "data": {
      "image/png": "[encoded data removed]",
      "text/plain": [
       "<Figure size 432x288 with 1 Axes>"
      ]
     },
     "metadata": {},
     "output_type": "display_data"
    }
   ],
   "source": [
    "red_x, red_y = [], []\n",
    "blue_x, blue_y = [], []\n",
    "green_x, green_y = [], []\n",
    "for i in range(len(reduced_X)):\n",
    "    if y[i] == 0:\n",
    "        red_x.append(reduced_X[i][0])\n",
    "        red_y.append(reduced_X[i][1])\n",
    "    elif y[i] == 1:\n",
    "        blue_x.append(reduced_X[i][0])\n",
    "        blue_y.append(reduced_X[i][1])\n",
    "    else:\n",
    "        green_x.append(reduced_X[i][0])\n",
    "        green_y.append(reduced_X[i][1])\n",
    "plt.scatter(red_x, red_y, c='r', marker='x')\n",
    "plt.scatter(blue_x, blue_y, c='b', marker='D')\n",
    "plt.scatter(green_x, green_y, c='g', marker='.')\n",
    "plt.show()"
   ]
  },
  {
   "cell_type": "markdown",
   "metadata": {},
   "source": [
    "The newly derived features are plotted in the above figure. Each of the dataset's three classes is indicated by its own marker style. From this two-dimensional view of the data, it is clear that one of the classes can be easily separated from the other two overlapping classes. It would be difficult to notice this structure without a graphical representation. This insight can inform our choice of classification model."
   ]
  },
  {
   "cell_type": "code",
   "execution_count": null,
   "metadata": {},
   "outputs": [],
   "source": []
  }
 ],
 "metadata": {
  "kernelspec": {
   "display_name": "Python 3",
   "language": "python",
   "name": "python3"
  },
  "language_info": {
   "codemirror_mode": {
    "name": "ipython",
    "version": 3
   },
   "file_extension": ".py",
   "mimetype": "text/x-python",
   "name": "python",
   "nbconvert_exporter": "python",
   "pygments_lexer": "ipython3",
   "version": "3.6.4"
  }
 },
 "nbformat": 4,
 "nbformat_minor": 2
}
